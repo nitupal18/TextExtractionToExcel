{
 "cells": [
  {
   "cell_type": "code",
   "execution_count": 129,
   "metadata": {},
   "outputs": [],
   "source": [
    "import pytesseract \n",
    "from PIL import Image\n",
    "from os import listdir\n",
    "from os.path import isfile, join\n",
    "import os\n",
    "import pandas \n",
    "import re"
   ]
  },
  {
   "cell_type": "code",
   "execution_count": 156,
   "metadata": {},
   "outputs": [],
   "source": [
    "list=[]\n",
    "path =r\"\\images\"\n",
    "for imageName in os.listdir(path):\n",
    "    inputPath = os.path.join(path, imageName)\n",
    "    img = Image.open(inputPath)\n",
    "\n",
    "    # applying ocr using pytesseract for python\n",
    "    text = pytesseract.image_to_string(img, lang =\"eng\",config='--psm 6')\n",
    "    list.append(text)"
   ]
  },
  {
   "cell_type": "code",
   "execution_count": 131,
   "metadata": {},
   "outputs": [],
   "source": [
    "res = []\n",
    "for sub in list:\n",
    "    res.append(sub.replace(\"\\n\", \" \"))"
   ]
  },
  {
   "cell_type": "code",
   "execution_count": 132,
   "metadata": {},
   "outputs": [],
   "source": [
    "new_res=[]\n",
    "for r in res:\n",
    "    new_res.append(re.sub(' +', ' ', r))"
   ]
  },
  {
   "cell_type": "code",
   "execution_count": 133,
   "metadata": {},
   "outputs": [
    {
     "name": "stdout",
     "output_type": "stream",
     "text": [
      "INDIA Device Name: Pulse Oximeter REF NML903055 Qty: 4 LOT: 34683 \n",
      "INDIA Device Name: Blood Warmer REF NML903090 Qty: 1 LOT: 34641 STERILE \n",
      "USA Device Name: C-Pap Machine REF NML903105 Qty: 1 LOT: 34662 STERILE aS =~ \n",
      "USA Device Name: ECG Machine REF NML903060 Qty: 9 LOT: 34690 mes as =< \n",
      "EU Device Name: HFNC Machine REF NML903095 Qty: 5 LOT: 34648 \n",
      "EU Device Name: Infusion Pump REF NML903065 Qty: 10 LOT: 34697 \n",
      "EU Device Name: NIBP Monitor Cc € REF NML903050 Qty: 5 LOT: 34676 sTeRLE| [ [a] a<= \n"
     ]
    }
   ],
   "source": [
    "for i in new_res:\n",
    "    print(i)"
   ]
  },
  {
   "cell_type": "code",
   "execution_count": 134,
   "metadata": {},
   "outputs": [],
   "source": [
    "temp=[]\n",
    "for i in new_res:\n",
    "    s=\"\"\n",
    "    l=[]\n",
    "    for j in i:\n",
    "        if j==' ':\n",
    "            l.append(s)\n",
    "            s=\"\"\n",
    "        else:\n",
    "            s=s+j\n",
    "    temp.append(l)\n",
    "    "
   ]
  },
  {
   "cell_type": "code",
   "execution_count": 147,
   "metadata": {},
   "outputs": [],
   "source": [
    "dic=['2369','4127','15789','2578','1289','1589','127']"
   ]
  },
  {
   "cell_type": "code",
   "execution_count": 148,
   "metadata": {},
   "outputs": [],
   "source": [
    "Data=[]\n",
    "for k in range(0,7):\n",
    "    InnerList=[]\n",
    "    InnerList.append(temp[k][3]+\" \"+temp[k][4])\n",
    "    InnerList.append(temp[k][6])\n",
    "    InnerList.append(temp[k][10])\n",
    "    InnerList.append(temp[k][8])\n",
    "    InnerList.append(dic[k])\n",
    "    Data.append(InnerList)\n",
    "    "
   ]
  },
  {
   "cell_type": "code",
   "execution_count": 150,
   "metadata": {},
   "outputs": [],
   "source": [
    "df = pandas.DataFrame(Data ,columns=['Device Name','REF','LOT','Qty','Symbols'])"
   ]
  },
  {
   "cell_type": "code",
   "execution_count": 151,
   "metadata": {},
   "outputs": [
    {
     "data": {
      "text/html": [
       "<div>\n",
       "<style scoped>\n",
       "    .dataframe tbody tr th:only-of-type {\n",
       "        vertical-align: middle;\n",
       "    }\n",
       "\n",
       "    .dataframe tbody tr th {\n",
       "        vertical-align: top;\n",
       "    }\n",
       "\n",
       "    .dataframe thead th {\n",
       "        text-align: right;\n",
       "    }\n",
       "</style>\n",
       "<table border=\"1\" class=\"dataframe\">\n",
       "  <thead>\n",
       "    <tr style=\"text-align: right;\">\n",
       "      <th></th>\n",
       "      <th>Device Name</th>\n",
       "      <th>REF</th>\n",
       "      <th>LOT</th>\n",
       "      <th>Qty</th>\n",
       "      <th>Symbols</th>\n",
       "    </tr>\n",
       "  </thead>\n",
       "  <tbody>\n",
       "    <tr>\n",
       "      <th>0</th>\n",
       "      <td>Pulse Oximeter</td>\n",
       "      <td>NML903055</td>\n",
       "      <td>34683</td>\n",
       "      <td>4</td>\n",
       "      <td>2369</td>\n",
       "    </tr>\n",
       "    <tr>\n",
       "      <th>1</th>\n",
       "      <td>Blood Warmer</td>\n",
       "      <td>NML903090</td>\n",
       "      <td>34641</td>\n",
       "      <td>1</td>\n",
       "      <td>4127</td>\n",
       "    </tr>\n",
       "    <tr>\n",
       "      <th>2</th>\n",
       "      <td>C-Pap Machine</td>\n",
       "      <td>NML903105</td>\n",
       "      <td>34662</td>\n",
       "      <td>1</td>\n",
       "      <td>15789</td>\n",
       "    </tr>\n",
       "    <tr>\n",
       "      <th>3</th>\n",
       "      <td>ECG Machine</td>\n",
       "      <td>NML903060</td>\n",
       "      <td>34690</td>\n",
       "      <td>9</td>\n",
       "      <td>2578</td>\n",
       "    </tr>\n",
       "    <tr>\n",
       "      <th>4</th>\n",
       "      <td>HFNC Machine</td>\n",
       "      <td>NML903095</td>\n",
       "      <td>34648</td>\n",
       "      <td>5</td>\n",
       "      <td>1289</td>\n",
       "    </tr>\n",
       "    <tr>\n",
       "      <th>5</th>\n",
       "      <td>Infusion Pump</td>\n",
       "      <td>NML903065</td>\n",
       "      <td>34697</td>\n",
       "      <td>10</td>\n",
       "      <td>1589</td>\n",
       "    </tr>\n",
       "    <tr>\n",
       "      <th>6</th>\n",
       "      <td>NIBP Monitor</td>\n",
       "      <td>€</td>\n",
       "      <td>5</td>\n",
       "      <td>NML903050</td>\n",
       "      <td>127</td>\n",
       "    </tr>\n",
       "  </tbody>\n",
       "</table>\n",
       "</div>"
      ],
      "text/plain": [
       "      Device Name        REF    LOT        Qty Symbols\n",
       "0  Pulse Oximeter  NML903055  34683          4    2369\n",
       "1    Blood Warmer  NML903090  34641          1    4127\n",
       "2   C-Pap Machine  NML903105  34662          1   15789\n",
       "3     ECG Machine  NML903060  34690          9    2578\n",
       "4    HFNC Machine  NML903095  34648          5    1289\n",
       "5   Infusion Pump  NML903065  34697         10    1589\n",
       "6    NIBP Monitor          €      5  NML903050     127"
      ]
     },
     "execution_count": 151,
     "metadata": {},
     "output_type": "execute_result"
    }
   ],
   "source": [
    "df"
   ]
  },
  {
   "cell_type": "code",
   "execution_count": 158,
   "metadata": {},
   "outputs": [],
   "source": [
    "df.to_csv('output.csv')"
   ]
  }
 ],
 "metadata": {
  "kernelspec": {
   "display_name": "Python 3.10.8 64-bit (microsoft store)",
   "language": "python",
   "name": "python3"
  },
  "language_info": {
   "codemirror_mode": {
    "name": "ipython",
    "version": 3
   },
   "file_extension": ".py",
   "mimetype": "text/x-python",
   "name": "python",
   "nbconvert_exporter": "python",
   "pygments_lexer": "ipython3",
   "version": "3.10.8"
  },
  "orig_nbformat": 4,
  "vscode": {
   "interpreter": {
    "hash": "8250047211b405e5b8451d9d626e2e1464b690fcf724b73557d72dd0c7b6d08e"
   }
  }
 },
 "nbformat": 4,
 "nbformat_minor": 2
}
